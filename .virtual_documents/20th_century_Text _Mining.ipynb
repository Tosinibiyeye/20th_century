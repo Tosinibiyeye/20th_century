


from textblob import TextBlob
import pandas as pd
import seaborn as sns
import matplotlib.pyplot as plt
import matplotlib
import nltk
import nltk
import re
nltk.download('stopwords')
nltk.download('punkt_tab')
nltk.download('averaged_perceptron_tagger_eng')
from collections import Counter
sns.set()





myfile = open('20th_century_Wiki.txt', encoding='utf-8') 


# Import txt file

with open('20th_century_Wiki.txt', 'r', errors='ignore') as file: 
   data = file.read().replace( '\n', ' ')


# Sentence tokenization

from nltk.tokenize import sent_tokenize
tokenized_sent = sent_tokenize(data)
print(tokenized_sent) 


# Word tokenization

from nltk.tokenize import word_tokenize
tokenized_word = word_tokenize(data)
print(tokenized_word) 


# Create frequency distribution

from nltk.probability import FreqDist
dist_words = FreqDist(tokenized_word)
print(dist_words)


dist_words.most_common(10)


# Frequency Distribution Plot

plt.figure(figsize=(8, 3))
dist_words.plot(10,cumulative = False)
plt.show()





# Defining stopwords

from nltk.corpus import stopwords
stop_words = set(stopwords.words("english"))
print(stop_words)


# Removing stopwords in words

filtered_words = [] # creates an empty list
for word in tokenized_word:
    if word not in stop_words:
        filtered_words.append(word)


filtered_words


# Create a new FreqDist for filtered_words

dist_words_filter = FreqDist(filtered_words)
print(dist_words_filter)


dist_words_filter.most_common(10)



# Frequency Distribution Plot

plt.figure(figsize=(8, 3))
dist_words_filter.plot(10, cumulative = False)
plt.show()


dist_words_filter


# Substitute all punctuations marks with a space 

sans_punc = re.sub("[^a-zA-Z]",  # Search for all non-letters
                          " ",          # Replace all non-letters with spaces
                          str(filtered_words))


sans_punc


# Word tokenization

tokenized_word_2 = word_tokenize(sans_punc)
print(tokenized_word_2)


# Create a new FreqDist

dist_words_filter_2 = FreqDist(tokenized_word_2)


dist_words_filter_2.most_common(10)


# Frequency Distribution Plot

plt.figure(figsize=(8, 3))
dist_words_filter_2.plot(30, cumulative = False)
plt.show()








new_stopwords = ['th', 'Then', 'in', 'S', 'The']


filtered = []
for word in tokenized_word_2:
    if word not in new_stopwords:
        filtered.append(word)


%%time
text = TextBlob(str(filtered))


text


tags_list = text.tags


tags_list


df_text = pd.DataFrame(tags_list)
df_text.columns = ['Words', "Word type"]


df_text.head()


df_t = df_text.groupby('Word type').count().reset_index()


df_t.head()


top10 = df_t.nlargest(10, 'Words')


top10


plt.figure(figsize = (10, 5))
with sns.dark_palette("xkcd:blue", 20):
    sns.barplot(x = "Words", y = "Word type",
    saturation = 0.9, data = top10).set_title("20th_century_top_10_word_types_used")








df = df_text[(df_text['Word type'] == "NN") | (df_text['Word type'] == "NNS") | (df_text['Word type'] == "NNP")]
df.columns = ["Word", "Occurences"]
x = df.groupby('Word').count().reset_index()
y = x.sort_values(by = ['Occurences'], ascending=False)
top15 = y.nlargest(15, 'Occurences')


top15


plt.figure(figsize=(10, 5))
with sns.dark_palette("xkcd:blue", 10):
    sns.barplot(x="Word", y="Occurences",
    saturation=0.9, data = top15).set_title("20th_century_most_frequently_used_nouns")








df = df_text[(df_text['Word type'] == "VB")  | (df_text['Word type'] == "VBD")]
df.columns = ["Word", "Occurences"]
x = df.groupby('Word').count().reset_index()
y = x.sort_values(by = ['Occurences'], ascending=False)
top15 = y.nlargest(15, 'Occurences')


top15


plt.figure(figsize = (10, 5))
with sns.dark_palette("xkcd:blue", 10):
    sns.barplot(x = "Word", y = "Occurences",
    saturation = 0.9, data = top15).set_title("20th_century_most_frequently_used_verbs")








df = df_text[df_text['Word type'] == "JJ"]
df.columns = ["Word", "Occurences"]
x = df.groupby('Word').count().reset_index()
y = x.sort_values(by=['Occurences'], ascending=False)
top15 = y.nlargest(15, 'Occurences')


top15


plt.figure(figsize=(10, 5))
with sns.dark_palette("xkcd:blue", 10):
    sns.barplot(x="Word", y="Occurences",
    saturation=0.9, data = top15).set_title("20th_century_most_frequently_used_adjectives")








listToStr = ' '.join([str(elem) for elem in filtered])
 
print(listToStr)


# Create a count for the main characters

all_counts = Counter(re.sub(r'\W+', ' ', listToStr).split())


countries = pd.read_csv("countries_list_20th_century_1.5.csv", index_col = 0)


countries.head()


# Replace names with aliases

countries['country_name'] = countries['country_name'].replace('Bill the Lizard','Bill')
countries['country_name'] = countries['country_name'].replace('The Queen of Hearts','Queen')
countries['country_name'] = countries['country_name'].replace('The King of Hearts','King')
countries['country_name'] = countries['country_name'].replace('The Knave of Hearts','Knave')


countries


countries['character_alias'] = countries['country_name'].apply(lambda x: x.rsplit(' ', 1)[-1])


countries


countries_list = countries['character_alias'].to_list()


dict_of_counts = {d : all_counts[d] for d in countries_list}


dict_of_counts


# Search for the names from the list in the dictionary

dct = {v:[k] for v,k in dict_of_counts.items()}  
df = pd.DataFrame(dct)


df


df = df.transpose().reset_index()


df


df.rename(columns = {"index":"countries", 0:"Times mentioned"}, inplace = True)


df


plt.figure(figsize=(10, 5))
with sns.dark_palette("#79C", 27):
    sns.barplot(x = "Times mentioned", y = "countries",
    saturation=0.9, data = df.sort_values("Times mentioned", ascending = False)).set_title("20th_century_most frequently mentioned countries")











text_sent = TextBlob(str(filtered))


print(text_sent.sentiment)






